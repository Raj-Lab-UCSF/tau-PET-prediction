{
 "cells": [
  {
   "cell_type": "markdown",
   "metadata": {},
   "source": [
    "## Plotting model $R^2$"
   ]
  },
  {
   "cell_type": "code",
   "execution_count": null,
   "metadata": {},
   "outputs": [],
   "source": [
    "import pandas as pd\n",
    "import matplotlib.pyplot as plt"
   ]
  },
  {
   "cell_type": "code",
   "execution_count": null,
   "metadata": {},
   "outputs": [],
   "source": [
    "scores = {\n",
    "    'NDM':pd.read_excel('../data/model_comparison.xlsx', sheet_name='NDM').set_index('cohort'),\n",
    "    'linear':pd.read_excel('../data/model_comparison.xlsx', sheet_name='Linear').set_index('cohort'),\n",
    "    'constant':pd.read_excel('../data/model_comparison.xlsx', sheet_name='Constant').set_index('cohort')\n",
    "}"
   ]
  },
  {
   "cell_type": "code",
   "execution_count": null,
   "metadata": {},
   "outputs": [],
   "source": [
    "scores['NDM']"
   ]
  },
  {
   "cell_type": "code",
   "execution_count": null,
   "metadata": {},
   "outputs": [],
   "source": [
    "r2_cols = [col for col in scores['NDM'].columns if 'r2' in col]\n",
    "std_cols = [col for col in scores['NDM'].columns if 'std' in col]"
   ]
  },
  {
   "cell_type": "code",
   "execution_count": null,
   "metadata": {},
   "outputs": [],
   "source": [
    "colors = ['#234990','#905023','#878220','#7e2390']\n",
    "m=0\n",
    "\n",
    "r2_cols = ['cortical-r2', 'braak5-r2', 'ndm-1-8-r2', 'ndm-1-4-r2', 'ndm-4-8-r2']\n",
    "std_cols = ['cortical-std', 'braak5-std', 'ndm-1-8-std', 'ndm-1-4-std', 'ndm-4-8-std']\n",
    "\n",
    "plt.figure(figsize=(8,6))\n",
    "for model in scores.keys():\n",
    "    plt.ylim([0.1,0.9])\n",
    "    ad_r2 = scores[model][r2_cols].loc['AD_both_m4']\n",
    "    ad_std = scores[model][std_cols].loc['AD_both_m4']\n",
    "    plt.scatter(r2_cols, ad_r2, c=colors[m], s=120)\n",
    "    plt.errorbar(r2_cols, ad_r2, ad_std, fmt=colors[m], mec=colors[m], ecolor=colors[m], ms=14, alpha=0.75)\n",
    "    m += 1\n",
    "plt.legend(scores.keys())\n",
    "plt.show()"
   ]
  },
  {
   "cell_type": "code",
   "execution_count": null,
   "metadata": {},
   "outputs": [],
   "source": [
    "from cortography.utils import atlas_utils\n",
    "\n",
    "# Load utility dataframe for DK regions\n",
    "DK = atlas_utils.load_atlas('DK')"
   ]
  },
  {
   "cell_type": "code",
   "execution_count": null,
   "metadata": {},
   "outputs": [],
   "source": [
    "braak_5_regions = DK[ (DK['Braak stage']==5.0) & (DK['Cortex']=='cortical')]['Other Name']"
   ]
  },
  {
   "cell_type": "code",
   "execution_count": null,
   "metadata": {},
   "outputs": [],
   "source": [
    "braak_5_regions"
   ]
  },
  {
   "cell_type": "code",
   "execution_count": null,
   "metadata": {},
   "outputs": [],
   "source": [
    "colors = ['#234990','#878200','#7e2390']\n",
    "m=0\n",
    "\n",
    "r2_cols = ['cortical-r2', 'braak5-r2', 'ndm-1-8-r2', 'ndm-1-4-r2', 'ndm-4-8-r2']\n",
    "std_cols = ['cortical-std', 'braak5-std', 'ndm-1-8-std', 'ndm-1-4-std', 'ndm-4-8-std']\n",
    "\n",
    "plt.figure(figsize=(6,4))\n",
    "markers=['o','v']\n",
    "for model in ['NDM', 'linear']:\n",
    "    plt.ylim([0.1,0.9])\n",
    "\n",
    "    ad_r2 = scores[model][r2_cols].loc['AD_both_m4']\n",
    "    ad_std = scores[model][std_cols].loc['AD_both_m4']\n",
    "    plt.scatter(r2_cols, ad_r2, s=150, marker=markers[m], facecolors=colors[m], edgecolors=colors[m], linewidths=2, alpha=0.85)\n",
    "    plt.errorbar(r2_cols, ad_r2, ad_std, fmt=colors[m])\n",
    "    \n",
    "    mci_r2 = scores[model][r2_cols].loc['MCI_both_m4'] + np.random.normal(0,0.01,5)\n",
    "    mci_std = scores[model][std_cols].loc['MCI_both_m4']\n",
    "    plt.scatter(r2_cols, mci_r2, s=150, marker=markers[m], facecolors='none', edgecolors=colors[m], linewidths=2, alpha=0.85)\n",
    "    plt.errorbar(r2_cols, mci_r2, mci_std, linestyle = '--', fmt=colors[m])\n",
    "    m += 1\n",
    "plt.savefig('../results/notebook_figs/SI_r2.png', dpi=150, transparent=True, bbox_inches = 'tight', pad_inches = 0.1)\n",
    "plt.show()"
   ]
  },
  {
   "cell_type": "markdown",
   "metadata": {},
   "source": [
    "# Plotting $\\Delta$$\\tau$\n",
    "This notebook plots the equation for $\\Delta$$\\tau$ as predicted by previous notebooks."
   ]
  },
  {
   "cell_type": "code",
   "execution_count": null,
   "metadata": {},
   "outputs": [],
   "source": [
    "from mpl_toolkits.mplot3d import axes3d\n",
    "from matplotlib import cm"
   ]
  },
  {
   "cell_type": "code",
   "execution_count": null,
   "metadata": {},
   "outputs": [],
   "source": []
  },
  {
   "cell_type": "code",
   "execution_count": null,
   "metadata": {},
   "outputs": [],
   "source": []
  },
  {
   "cell_type": "code",
   "execution_count": null,
   "metadata": {},
   "outputs": [],
   "source": []
  },
  {
   "cell_type": "markdown",
   "metadata": {},
   "source": [
    "### Plotting covariates"
   ]
  },
  {
   "cell_type": "code",
   "execution_count": null,
   "metadata": {},
   "outputs": [],
   "source": [
    "color_list = (AD_MCI_tau_v3 - AD_MCI_tau_v1)[NDM_predicted_regions].mean(axis=1).values\n",
    "\n",
    "plt.figure(figsize=(10,6))\n",
    "plt.xticks( fontsize=18)\n",
    "plt.yticks( fontsize=18)\n",
    "plt.xlabel(r'A$\\beta_{baseline}$', fontsize=24)\n",
    "plt.ylabel('FTP', fontsize=24)\n",
    "# plt.xticks([])\n",
    "# plt.yticks([])\n",
    "plt.scatter(fbp.values, total_bl_tau.values, \n",
    "            c=color_list, \n",
    "            cmap = 'RdPu', \n",
    "            s=60, \n",
    "            alpha=0.75)\n",
    "plt.colorbar()\n",
    "plt.savefig('../results/figs/manuscript_figures/SI/ftp_vs_fbp.png', transparent=True, dpi=150)\n",
    "plt.show()"
   ]
  },
  {
   "cell_type": "code",
   "execution_count": null,
   "metadata": {},
   "outputs": [],
   "source": [
    "color_list = (AD_MCI_tau_v3 - AD_MCI_tau_v1)[NDM_predicted_regions].mean(axis=1).values\n",
    "\n",
    "plt.figure(figsize=(10,6))\n",
    "plt.xticks( fontsize=18)\n",
    "plt.yticks( fontsize=18)\n",
    "plt.xlabel('FTP', fontsize=24)\n",
    "plt.ylabel(r'FTP / A$\\beta_{baseline}$', fontsize=24)\n",
    "plt.ylim([-3,9])\n",
    "# plt.yticks([])\n",
    "plt.scatter(total_bl_tau.values, total_bl_tau.values/fbp.values, \n",
    "            c=color_list, \n",
    "            cmap = 'RdPu', \n",
    "            s=60, \n",
    "            alpha=0.75)\n",
    "plt.colorbar()\n",
    "plt.savefig('../results/figs/manuscript_figures/SI/ftp_vs_ratio.png', transparent=True, dpi=150)\n",
    "plt.show()"
   ]
  },
  {
   "cell_type": "code",
   "execution_count": null,
   "metadata": {},
   "outputs": [],
   "source": [
    "color_list = (AD_MCI_tau_v3 - AD_MCI_tau_v1)[NDM_predicted_regions].mean(axis=1).values\n",
    "\n",
    "plt.figure(figsize=(10,6))\n",
    "plt.xticks( fontsize=18)\n",
    "plt.yticks( fontsize=18)\n",
    "plt.xlabel(r'A$\\beta_{baseline}$', fontsize=24)\n",
    "plt.ylabel(r'FTP / A$\\beta_{baseline}$', fontsize=24)\n",
    "plt.ylim([-3,9])\n",
    "# plt.yticks([])\n",
    "plt.scatter(fbp.values, total_bl_tau.values/fbp.values, \n",
    "            c=color_list, \n",
    "            cmap = 'RdPu', \n",
    "            s=60, \n",
    "            alpha=0.75)\n",
    "plt.colorbar()\n",
    "plt.savefig('../results/figs/manuscript_figures/SI/fbp_vs_ratio.png', transparent=True, dpi=150)\n",
    "plt.show()"
   ]
  },
  {
   "cell_type": "code",
   "execution_count": null,
   "metadata": {},
   "outputs": [],
   "source": []
  },
  {
   "cell_type": "code",
   "execution_count": null,
   "metadata": {},
   "outputs": [],
   "source": [
    "xy_dict = make_regression_variables(subjects='AD', model=2, regions_to_average=list(cortical_regions))\n",
    "X,Y = xy_dict['X'], xy_dict['Y']\n",
    "\n",
    "model = LinearRegression(fit_intercept=True, normalize=True)\n",
    "model.fit(X, Y)"
   ]
  },
  {
   "cell_type": "code",
   "execution_count": null,
   "metadata": {},
   "outputs": [],
   "source": [
    "model.coef_.ravel()"
   ]
  },
  {
   "cell_type": "code",
   "execution_count": null,
   "metadata": {},
   "outputs": [],
   "source": [
    "model.intercept_[0]"
   ]
  },
  {
   "cell_type": "code",
   "execution_count": null,
   "metadata": {},
   "outputs": [],
   "source": [
    "fbp"
   ]
  },
  {
   "cell_type": "code",
   "execution_count": null,
   "metadata": {},
   "outputs": [],
   "source": [
    "a,b = list(model.coef_.ravel())\n",
    "c = model.intercept_[0]"
   ]
  },
  {
   "cell_type": "code",
   "execution_count": null,
   "metadata": {},
   "outputs": [],
   "source": [
    "model.coef_.ravel()"
   ]
  },
  {
   "cell_type": "code",
   "execution_count": null,
   "metadata": {},
   "outputs": [],
   "source": [
    "amyloid = np.linspace(0.8,2,100)\n",
    "tau = np.linspace(50,100,100)"
   ]
  },
  {
   "cell_type": "code",
   "execution_count": null,
   "metadata": {},
   "outputs": [],
   "source": [
    "X = np.array([[A for i in range(len(tau))] for A in amyloid])\n",
    "Y = np.array([[t for t in tau] for A in amyloid])\n",
    "Z = np.array([[-100*(a*t + b*A + c*(t/A)) + d for t in tau] for A in amyloid])"
   ]
  },
  {
   "cell_type": "code",
   "execution_count": null,
   "metadata": {},
   "outputs": [],
   "source": [
    "%matplotlib inline"
   ]
  },
  {
   "cell_type": "code",
   "execution_count": null,
   "metadata": {},
   "outputs": [],
   "source": [
    "# xx = fbp\n",
    "# yy = total_bl_tau\n",
    "# zz = [-100*(a*yy[i] + *yy[i] + c*(yy[i]/xx[i])) + d for i in range(len(fbp))]"
   ]
  },
  {
   "cell_type": "code",
   "execution_count": null,
   "metadata": {},
   "outputs": [],
   "source": [
    "%matplotlib widget\n",
    "# aka import ipympl\n",
    "\n",
    "import matplotlib.pyplot as plt\n",
    "\n",
    "plt.plot([0, 1, 2, 2])\n",
    "plt.show()"
   ]
  },
  {
   "cell_type": "code",
   "execution_count": null,
   "metadata": {},
   "outputs": [],
   "source": [
    "fig = plt.figure(figsize=(20,10))\n",
    "ax = fig.gca(projection='3d')\n",
    "# scat = ax.scatter(xx,yy,zz, s=400)\n",
    "surf = ax.plot_surface(X, Y, Z, cmap=cm.coolwarm_r,\n",
    "                       linewidth=0, antialiased=False,alpha=0.2)"
   ]
  },
  {
   "cell_type": "code",
   "execution_count": null,
   "metadata": {},
   "outputs": [],
   "source": [
    "AD_MCI_v1_df"
   ]
  },
  {
   "cell_type": "markdown",
   "metadata": {},
   "source": [
    "## Plotting coefficients"
   ]
  },
  {
   "cell_type": "code",
   "execution_count": null,
   "metadata": {},
   "outputs": [],
   "source": [
    "model_test = make_regression_variables(subjects='AD', model=2, regions_to_average=list(cortical_regions))\n",
    "X, Y = model_test['X'], model_test['Y']\n",
    "bootstrapped_data = calculate_bootstrap_samples(X=X, Y=Y)"
   ]
  },
  {
   "cell_type": "code",
   "execution_count": null,
   "metadata": {},
   "outputs": [],
   "source": [
    "par0 = [bootstrapped_data['models'][i].coef_[0][0] for i in range(5000)]\n",
    "par1 = [bootstrapped_data['models'][i].coef_[0][1] for i in range(5000)]\n",
    "intercept = [bootstrapped_data['models'][i].intercept_[0] for i in range(5000)]\n"
   ]
  },
  {
   "cell_type": "code",
   "execution_count": null,
   "metadata": {},
   "outputs": [],
   "source": [
    "for i in range(len(fbp)):\n",
    "    plt.scatter(fbp.values[i], total_bl_tau.values[i])\n",
    "plt.hlines(y=0, xmin=-1.5, xmax=2.0)"
   ]
  },
  {
   "cell_type": "code",
   "execution_count": null,
   "metadata": {},
   "outputs": [],
   "source": [
    "for i in range(len(fbp)):\n",
    "    plt.scatter(fbp.values[i], total_bl_tau.values[i]/fbp.values[i])"
   ]
  },
  {
   "cell_type": "code",
   "execution_count": null,
   "metadata": {},
   "outputs": [],
   "source": [
    "for i in range(len(fbp)):\n",
    "    plt.scatter(total_bl_tau.values[i], total_bl_tau.values[i]/fbp.values[i])"
   ]
  },
  {
   "cell_type": "code",
   "execution_count": null,
   "metadata": {},
   "outputs": [],
   "source": [
    "for i in range(len(fbp)):\n",
    "    plt.scatter(fbp.values[i]*total_bl_tau.values[i], total_bl_tau.values[i]*total_bl_tau.values[i])"
   ]
  },
  {
   "cell_type": "code",
   "execution_count": null,
   "metadata": {},
   "outputs": [],
   "source": [
    "color_list = (AD_MCI_tau_v3 - AD_MCI_tau_v1)[cortical_regions].sum(axis=1).values\n",
    "\n",
    "plt.scatter(fbp.values, total_bl_tau.values, c=color_list, cmap = 'viridis')\n"
   ]
  },
  {
   "cell_type": "code",
   "execution_count": null,
   "metadata": {},
   "outputs": [],
   "source": [
    "_ = plt.hist(par0)\n",
    "np.array(par0).mean()"
   ]
  },
  {
   "cell_type": "code",
   "execution_count": null,
   "metadata": {},
   "outputs": [],
   "source": [
    "_ = plt.hist(par1)\n",
    "np.array(par1).mean()"
   ]
  },
  {
   "cell_type": "code",
   "execution_count": null,
   "metadata": {},
   "outputs": [],
   "source": [
    "_ = plt.hist(intercept)\n",
    "np.array(intercept).mean()"
   ]
  },
  {
   "cell_type": "code",
   "execution_count": null,
   "metadata": {},
   "outputs": [],
   "source": [
    "_ = plt.hist(fbp, alpha=0.5)\n",
    "_ = plt.hist(total_bl_tau, alpha=0.5)"
   ]
  },
  {
   "cell_type": "code",
   "execution_count": null,
   "metadata": {},
   "outputs": [],
   "source": [
    "dd"
   ]
  },
  {
   "cell_type": "code",
   "execution_count": null,
   "metadata": {},
   "outputs": [],
   "source": [
    "_ = plt.hist(fbp)"
   ]
  },
  {
   "cell_type": "code",
   "execution_count": null,
   "metadata": {},
   "outputs": [],
   "source": []
  }
 ],
 "metadata": {
  "kernelspec": {
   "display_name": "Python 3 (ipykernel)",
   "language": "python",
   "name": "python3"
  },
  "language_info": {
   "codemirror_mode": {
    "name": "ipython",
    "version": 3
   },
   "file_extension": ".py",
   "mimetype": "text/x-python",
   "name": "python",
   "nbconvert_exporter": "python",
   "pygments_lexer": "ipython3",
   "version": "3.10.0"
  }
 },
 "nbformat": 4,
 "nbformat_minor": 4
}
