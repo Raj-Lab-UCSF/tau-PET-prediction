{
 "cells": [
  {
   "cell_type": "markdown",
   "metadata": {},
   "source": [
    "# README"
   ]
  },
  {
   "cell_type": "markdown",
   "metadata": {},
   "source": [
    "## Notebooks\n",
    "### 1.Load_and_save_data.ipynb\n",
    "    - Loads the data and save useful pickle files.\n",
    "    \n",
    "### 2a.NDM_Run.ipynb\n",
    "\n",
    "\n",
    "### 2b.NDM_beta_fits.ipynb\n",
    "    - Find β fit\n",
    "    - Use baseline data to predict β\n",
    "   \n",
    "### 2c.NDM_beta_fits_with_MCI.ipynb\n",
    "    - Find β fit (with MCI)\n",
    "    - Use baseline data to predict β (with MCI)\n",
    "\n",
    "### 2d.NDM_beta_fits_1model.ipynb\n",
    "    - Find β fit\n",
    "    - Use baseline data to predict β (with **bootstrap**)\n",
    "\n",
    "### 2e.NDM_alpha_fits.ipynb\n",
    "    - Find α fit\n",
    "    - Use baseline data to predict α (with **bootstrap**)\n",
    "\n",
    "### 2f.NDM_gamma_fits.ipynb\n",
    "    - Find γ fit\n",
    "    - Use baseline data to predict γ (with **bootstrap**)\n",
    "\n",
    "### 3.Plotting_dtau_equation.ipynb\n",
    "    - Plot Δτ vs τ vs Aβ"
   ]
  },
  {
   "cell_type": "code",
   "execution_count": null,
   "metadata": {},
   "outputs": [],
   "source": []
  }
 ],
 "metadata": {
  "kernelspec": {
   "display_name": "I2T2",
   "language": "python",
   "name": "i2t2"
  },
  "language_info": {
   "codemirror_mode": {
    "name": "ipython",
    "version": 3
   },
   "file_extension": ".py",
   "mimetype": "text/x-python",
   "name": "python",
   "nbconvert_exporter": "python",
   "pygments_lexer": "ipython3",
   "version": "3.7.6"
  }
 },
 "nbformat": 4,
 "nbformat_minor": 4
}
