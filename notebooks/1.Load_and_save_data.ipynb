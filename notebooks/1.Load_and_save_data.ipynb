{
 "cells": [
  {
   "cell_type": "markdown",
   "metadata": {},
   "source": [
    "# NDM: Modelling tau evolution with NDM\n",
    "This notebook loads useful data and saves it as pickle files."
   ]
  },
  {
   "cell_type": "code",
   "execution_count": null,
   "metadata": {},
   "outputs": [],
   "source": [
    "import matplotlib.pyplot as plt\n",
    "import numpy as np\n",
    "import pandas as pd\n",
    "import pickle\n",
    "\n",
    "from cortography.utils import atlas_utils\n",
    "from numpy import linalg as LA\n",
    "from scipy.io import loadmat\n",
    "from scipy.linalg import expm\n",
    "from nilearn import plotting\n",
    "\n",
    "from copy import deepcopy\n",
    "\n",
    "import warnings\n",
    "warnings.filterwarnings('ignore')"
   ]
  },
  {
   "cell_type": "markdown",
   "metadata": {},
   "source": [
    "## 1. Load connectivity matrix and region names"
   ]
  },
  {
   "cell_type": "code",
   "execution_count": null,
   "metadata": {},
   "outputs": [],
   "source": [
    "# Use cortography to identify region names and connectivity\n",
    "DK = atlas_utils.load_atlas('DK')\n",
    "region_names = DK.index\n",
    "connectivity = atlas_utils.load_connectivity(atlas='DK', portion='LRLR')\n",
    "L = atlas_utils.load_laplacian(n=5)\n",
    "cortical_regions = DK[DK['Cortex']=='cortical']['Other Name'].values\n",
    "\n",
    "diagnosis = pd.read_csv('../data/diagnosis.csv').set_index('Random IDs')\n",
    "tau = pd.read_csv('../data/Tau.csv').set_index('Randomized ID')\n",
    "atrophy = pd.read_csv('../data/atrophy.csv').set_index('Randomized ID')\n",
    "\n",
    "# cortical areas (number of vertices)\n",
    "area = pd.read_csv('../data/area.csv').set_index('Randomized ID')\n",
    "#sanitize column names\n",
    "area.columns = area.columns.str.replace(' ', '')\n",
    "mean_cortical_areas = area[cortical_regions].mean()\n",
    "\n",
    "# From previous calculation:\n",
    "NDM_predicted_regions = ['rh_superiortemporal',\n",
    "                         'lh_superiortemporal',\n",
    "                         'rh_lateraloccipital',\n",
    "                         'lh_lateraloccipital', \n",
    "                         'lh_precuneus',\n",
    "                         'lh_superiorfrontal', \n",
    "                         'rh_precuneus', \n",
    "                         'rh_superiorfrontal']"
   ]
  },
  {
   "cell_type": "markdown",
   "metadata": {},
   "source": [
    "#### Remove regions known for undesired binding"
   ]
  },
  {
   "cell_type": "code",
   "execution_count": null,
   "metadata": {},
   "outputs": [],
   "source": [
    "print(\"Indices to be removed:\")\n",
    "print(\"R Cerebellum\",np.argwhere(connectivity.columns=='Right-Cerebellum-Cortex'))\n",
    "print(\"L Cerebellum\",np.argwhere(connectivity.columns=='Left-Cerebellum-Cortex'))\n",
    "# Remove choroid-plexus from tau data and Cerebellum from tau and connectivity\n",
    "tau = tau.drop(['Right-choroid-plexus', 'Left-choroid-plexus'], axis=1)"
   ]
  },
  {
   "cell_type": "code",
   "execution_count": null,
   "metadata": {},
   "outputs": [],
   "source": [
    "with open('../data/pickle_data/tau.pkl', 'wb') as handle:\n",
    "    pickle.dump(tau, handle, protocol=pickle.HIGHEST_PROTOCOL)\n",
    "    \n",
    "with open('../data/pickle_data/diagnosis.pkl', 'wb') as handle:\n",
    "    pickle.dump(diagnosis, handle, protocol=pickle.HIGHEST_PROTOCOL)\n",
    "\n",
    "with open('../data/pickle_data/atrophy.pkl', 'wb') as handle:\n",
    "    pickle.dump(atrophy, handle, protocol=pickle.HIGHEST_PROTOCOL)\n",
    "    \n",
    "with open('../data/pickle_data/mean_cortical_area.pkl', 'wb') as handle:\n",
    "    pickle.dump(mean_cortical_areas, handle, protocol=pickle.HIGHEST_PROTOCOL)"
   ]
  },
  {
   "cell_type": "markdown",
   "metadata": {},
   "source": [
    "## 2. Make average tau datasets, per diagnosis, for each visit"
   ]
  },
  {
   "cell_type": "markdown",
   "metadata": {},
   "source": [
    "### 2.1. Get IDs for all patients, by diagnosis"
   ]
  },
  {
   "cell_type": "code",
   "execution_count": null,
   "metadata": {},
   "outputs": [],
   "source": [
    "idx_CN = diagnosis[diagnosis['Clinical Diagnosis'] == 'CN'].index\n",
    "idx_MCI = diagnosis[diagnosis['Clinical Diagnosis'] == 'MCI'].index\n",
    "idx_AD = diagnosis[diagnosis['Clinical Diagnosis'] == 'AD'].index"
   ]
  },
  {
   "cell_type": "markdown",
   "metadata": {},
   "source": [
    "### 2.2 Get patients by visit"
   ]
  },
  {
   "cell_type": "code",
   "execution_count": null,
   "metadata": {},
   "outputs": [],
   "source": [
    "tau_visit_1 = tau[tau['Visit']==1]\n",
    "tau_visit_2 = tau[tau['Visit']==2]\n",
    "tau_visit_3 = tau[tau['Visit']==3]\n",
    "\n",
    "atrophy_visit_1 = atrophy[atrophy['Visit']==1]\n",
    "atrophy_visit_2 = atrophy[atrophy['Visit']==2]\n",
    "atrophy_visit_3 = atrophy[atrophy['Visit']==3]"
   ]
  },
  {
   "cell_type": "markdown",
   "metadata": {},
   "source": [
    "### 2.3 Get patients by visit AND by diagnosis"
   ]
  },
  {
   "cell_type": "code",
   "execution_count": null,
   "metadata": {},
   "outputs": [],
   "source": [
    "set(tau.index).intersection(set(idx_AD))"
   ]
  },
  {
   "cell_type": "code",
   "execution_count": null,
   "metadata": {},
   "outputs": [],
   "source": [
    "# get intersection of group indices\n",
    "idx_tau_AD  = set(tau.index).intersection(set(idx_AD))\n",
    "idx_tau_MCI = set(tau.index).intersection(set(idx_MCI))\n",
    "idx_tau_CN  = set(tau.index).intersection(set(idx_CN))\n",
    "\n",
    "\n",
    "tau_AD_patients = tau.loc[idx_tau_AD]\n",
    "tau_AD_visit_1 = tau_AD_patients[tau_AD_patients['Visit'] == 1]\n",
    "tau_AD_visit_2 = tau_AD_patients[tau_AD_patients['Visit'] == 2]\n",
    "tau_AD_visit_3 = tau_AD_patients[tau_AD_patients['Visit'] == 3]\n",
    "\n",
    "tau_MCI_patients = tau.loc[idx_tau_MCI]\n",
    "tau_MCI_visit_1 = tau_MCI_patients[tau_MCI_patients['Visit'] == 1]\n",
    "tau_MCI_visit_2 = tau_MCI_patients[tau_MCI_patients['Visit'] == 2]\n",
    "tau_MCI_visit_3 = tau_MCI_patients[tau_MCI_patients['Visit'] == 3]\n",
    "\n",
    "tau_CN_patients = tau.loc[idx_tau_CN]\n",
    "tau_CN_visit_1 = tau_CN_patients[tau_CN_patients['Visit'] == 1]\n",
    "tau_CN_visit_2 = tau_CN_patients[tau_CN_patients['Visit'] == 2]\n",
    "tau_CN_visit_3 = tau_CN_patients[tau_CN_patients['Visit'] == 3]"
   ]
  },
  {
   "cell_type": "code",
   "execution_count": null,
   "metadata": {},
   "outputs": [],
   "source": [
    "# Do the same for atrophy values\n",
    "# get intersection of group indices\n",
    "idx_atrophy_AD  = set(atrophy.index).intersection(set(idx_AD))\n",
    "idx_atrophy_MCI = set(atrophy.index).intersection(set(idx_MCI))\n",
    "idx_atrophy_CN  = set(atrophy.index).intersection(set(idx_CN))\n",
    "\n",
    "atrophy_AD_patients = atrophy.loc[idx_atrophy_AD]\n",
    "atrophy_AD_visit_1 = atrophy_AD_patients[atrophy_AD_patients['Visit'] == 1]\n",
    "atrophy_AD_visit_2 = atrophy_AD_patients[atrophy_AD_patients['Visit'] == 2]\n",
    "atrophy_AD_visit_3 = atrophy_AD_patients[atrophy_AD_patients['Visit'] == 3]\n",
    "\n",
    "atrophy_MCI_patients = atrophy.loc[idx_atrophy_MCI]\n",
    "atrophy_MCI_visit_1 = atrophy_MCI_patients[atrophy_MCI_patients['Visit'] == 1]\n",
    "atrophy_MCI_visit_2 = atrophy_MCI_patients[atrophy_MCI_patients['Visit'] == 2]\n",
    "atrophy_MCI_visit_3 = atrophy_MCI_patients[atrophy_MCI_patients['Visit'] == 3]\n",
    "\n",
    "atrophy_CN_patients = atrophy.loc[idx_atrophy_CN]\n",
    "atrophy_CN_visit_1 = atrophy_CN_patients[atrophy_CN_patients['Visit'] == 1]\n",
    "atrophy_CN_visit_2 = atrophy_CN_patients[atrophy_CN_patients['Visit'] == 2]\n",
    "atrophy_CN_visit_3 = atrophy_CN_patients[atrophy_CN_patients['Visit'] == 3]"
   ]
  },
  {
   "cell_type": "code",
   "execution_count": null,
   "metadata": {},
   "outputs": [],
   "source": [
    "len(tau_AD_patients)"
   ]
  },
  {
   "cell_type": "markdown",
   "metadata": {},
   "source": [
    "### 2.4 Create longitudinal dataset\n",
    "- Use only patients that came back after 18 mo"
   ]
  },
  {
   "cell_type": "code",
   "execution_count": null,
   "metadata": {},
   "outputs": [],
   "source": [
    "def index_intersection(df1, df2):\n",
    "    index_set_1 = set(df1.index)\n",
    "    index_set_2 = set(df2.index)\n",
    "    intersection = index_set_1.intersection(index_set_2)\n",
    "    return(intersection)"
   ]
  },
  {
   "cell_type": "code",
   "execution_count": null,
   "metadata": {},
   "outputs": [],
   "source": [
    "AD_longitudinal = {'tau':{'visit_1':tau_AD_visit_1.loc[index_intersection(tau_AD_visit_1, tau_AD_visit_3)].drop('Visit',axis=1),\n",
    "                          'visit_2':tau_AD_visit_2.loc[index_intersection(tau_AD_visit_2, tau_AD_visit_3)].drop('Visit',axis=1),\n",
    "                          'visit_3':tau_AD_visit_3.loc[index_intersection(tau_AD_visit_3, tau_AD_visit_3)].drop('Visit',axis=1)},\n",
    "                  'atrophy':{'visit_1':atrophy_AD_visit_1.loc[index_intersection(atrophy_AD_visit_1, atrophy_AD_visit_3)].drop('Visit',axis=1),\n",
    "                             'visit_2':atrophy_AD_visit_2.loc[index_intersection(atrophy_AD_visit_2, atrophy_AD_visit_3)].drop('Visit',axis=1),\n",
    "                             'visit_3':atrophy_AD_visit_3.loc[index_intersection(atrophy_AD_visit_3, atrophy_AD_visit_3)].drop('Visit',axis=1)}}\n",
    "\n",
    "MCI_longitudinal = {'tau':{'visit_1':tau_MCI_visit_1.loc[index_intersection(tau_MCI_visit_1, tau_MCI_visit_3)].drop('Visit',axis=1),\n",
    "                           'visit_2':tau_MCI_visit_2.loc[index_intersection(tau_MCI_visit_2, tau_MCI_visit_3)].drop('Visit',axis=1),\n",
    "                           'visit_3':tau_MCI_visit_3.loc[index_intersection(tau_MCI_visit_3, tau_MCI_visit_3)].drop('Visit',axis=1)},\n",
    "                  'atrophy':{'visit_1':atrophy_MCI_visit_1.loc[index_intersection(atrophy_MCI_visit_1, atrophy_MCI_visit_3)].drop('Visit',axis=1),\n",
    "                             'visit_2':atrophy_MCI_visit_2.loc[index_intersection(atrophy_MCI_visit_2, atrophy_MCI_visit_3)].drop('Visit',axis=1),\n",
    "                             'visit_3':atrophy_MCI_visit_3.loc[index_intersection(atrophy_MCI_visit_3, atrophy_MCI_visit_3)].drop('Visit',axis=1)}}\n",
    "\n",
    "CN_longitudinal = {'tau':{'visit_1':tau_CN_visit_1.loc[index_intersection(tau_CN_visit_1, tau_CN_visit_3)].drop('Visit',axis=1),\n",
    "                          'visit_2':tau_CN_visit_2.loc[index_intersection(tau_CN_visit_2, tau_CN_visit_3)].drop('Visit',axis=1),\n",
    "                          'visit_3':tau_CN_visit_3.loc[index_intersection(tau_CN_visit_3, tau_CN_visit_3)].drop('Visit',axis=1)},\n",
    "                  'atrophy':{'visit_1':atrophy_CN_visit_1.loc[index_intersection(atrophy_CN_visit_1, atrophy_CN_visit_3)].drop('Visit',axis=1),\n",
    "                             'visit_2':atrophy_CN_visit_2.loc[index_intersection(atrophy_CN_visit_2, atrophy_CN_visit_3)].drop('Visit',axis=1),\n",
    "                             'visit_3':atrophy_CN_visit_3.loc[index_intersection(atrophy_CN_visit_3, atrophy_CN_visit_3)].drop('Visit',axis=1)}}"
   ]
  },
  {
   "cell_type": "code",
   "execution_count": null,
   "metadata": {},
   "outputs": [],
   "source": [
    "for i in MCI_longitudinal['tau']['visit_3'].index:\n",
    "    print(i)"
   ]
  },
  {
   "cell_type": "markdown",
   "metadata": {},
   "source": [
    "### 2.5 Export data"
   ]
  },
  {
   "cell_type": "code",
   "execution_count": null,
   "metadata": {},
   "outputs": [],
   "source": [
    "with open('../data/pickle_data/AD_longitudinal.pkl', 'wb') as handle:\n",
    "    pickle.dump(AD_longitudinal, handle, protocol=pickle.HIGHEST_PROTOCOL)\n",
    "    \n",
    "with open('../data/pickle_data/MCI_longitudinal.pkl', 'wb') as handle:\n",
    "    pickle.dump(MCI_longitudinal, handle, protocol=pickle.HIGHEST_PROTOCOL)\n",
    "    \n",
    "with open('../data/pickle_data/CN_longitudinal.pkl', 'wb') as handle:\n",
    "    pickle.dump(CN_longitudinal, handle, protocol=pickle.HIGHEST_PROTOCOL)"
   ]
  },
  {
   "cell_type": "markdown",
   "metadata": {},
   "source": [
    "## 3. Amyloid data"
   ]
  },
  {
   "cell_type": "code",
   "execution_count": null,
   "metadata": {},
   "outputs": [],
   "source": [
    "AD_idx = AD_longitudinal['tau']['visit_1'].index\n",
    "MCI_idx = MCI_longitudinal['tau']['visit_1'].index\n",
    "CN_idx = CN_longitudinal['tau']['visit_1'].index\n",
    "\n",
    "fbp_AD = pd.DataFrame([diagnosis['Florbetapir SUVr'].loc[idx] for idx in AD_idx], index=AD_idx, columns=['Florbetapir SUVr'])\n",
    "fbp_MCI = pd.DataFrame([diagnosis['Florbetapir SUVr'].loc[idx] for idx in MCI_idx], index=MCI_idx, columns=['Florbetapir SUVr'])\n",
    "fbp_CN = pd.DataFrame([diagnosis['Florbetapir SUVr'].loc[idx] for idx in CN_idx], index=CN_idx, columns=['Florbetapir SUVr'])\n",
    "\n",
    "fpb = {'AD':fbp_AD,\n",
    "       'MCI':fbp_MCI,\n",
    "       'CN':fbp_CN}"
   ]
  },
  {
   "cell_type": "code",
   "execution_count": null,
   "metadata": {},
   "outputs": [],
   "source": [
    "with open('../data/pickle_data/fbp.pkl', 'wb') as handle:\n",
    "    pickle.dump(fpb, handle, protocol=pickle.HIGHEST_PROTOCOL)"
   ]
  },
  {
   "cell_type": "code",
   "execution_count": null,
   "metadata": {},
   "outputs": [],
   "source": [
    "plt.title('Florbetapir SUVr per BL diagnosis')\n",
    "plt.hist(fbp_CN.values.ravel(),alpha=0.5)\n",
    "plt.hist(fbp_MCI.values.ravel(),alpha=0.5)\n",
    "plt.hist(fbp_AD.values.ravel(),alpha=0.5)\n",
    "plt.axvline(x=1.10, color='r', linestyle='--')\n",
    "plt.legend(['cutoff','CN','MCI','AD'])\n",
    "plt.xlabel('SUVr value')\n",
    "plt.ylabel('Count')\n",
    "plt.show()"
   ]
  },
  {
   "cell_type": "markdown",
   "metadata": {},
   "source": [
    "## 4. Save data to be used by brainpainter"
   ]
  },
  {
   "cell_type": "markdown",
   "metadata": {},
   "source": [
    "[Brain painter](https://brainpainter.csail.mit.edu/) requires a very specific ordering and format for the coloring."
   ]
  },
  {
   "cell_type": "code",
   "execution_count": null,
   "metadata": {},
   "outputs": [],
   "source": [
    "# create dataframes with delta tau\n",
    "dtau_CN = CN_longitudinal['tau']['visit_3'] - CN_longitudinal['tau']['visit_1']\n",
    "dtau_MCI = MCI_longitudinal['tau']['visit_3'] - MCI_longitudinal['tau']['visit_1']\n",
    "dtau_AD = AD_longitudinal['tau']['visit_3'] - AD_longitudinal['tau']['visit_1']"
   ]
  },
  {
   "cell_type": "code",
   "execution_count": null,
   "metadata": {
    "jupyter": {
     "source_hidden": true
    }
   },
   "outputs": [],
   "source": [
    "# check if dataframes make sense\n",
    "plt.figure(figsize=(10,5))\n",
    "plt.subplot(121)\n",
    "plt.title(r'$\\Delta\\tau$'+' for all regions')\n",
    "plt.hist(dtau_CN.values.ravel(), histtype='step', bins=20)\n",
    "plt.hist(dtau_MCI.values.ravel(), histtype='step', bins=20)\n",
    "plt.hist(dtau_AD.values.ravel(), histtype='step', bins=20)\n",
    "plt.legend(['CN','MCI','AD'])\n",
    "plt.xlabel('SUVr value')\n",
    "plt.ylabel('Count')\n",
    "\n",
    "plt.subplot(122)\n",
    "plt.title(r'$\\Delta\\tau$'+' for 8 NDM regions')\n",
    "plt.hist(dtau_CN[NDM_predicted_regions].values.ravel(), histtype='step', bins=20)\n",
    "plt.hist(dtau_MCI[NDM_predicted_regions].values.ravel(), histtype='step', bins=20)\n",
    "plt.hist(dtau_AD[NDM_predicted_regions].values.ravel(), histtype='step', bins=10)\n",
    "plt.legend(['CN','MCI','AD'])\n",
    "plt.xlabel('SUVr value')\n",
    "plt.ylabel('Count')\n",
    "plt.show()"
   ]
  },
  {
   "cell_type": "markdown",
   "metadata": {},
   "source": [
    "### Calculate mean df per diagnosis group"
   ]
  },
  {
   "cell_type": "code",
   "execution_count": null,
   "metadata": {},
   "outputs": [],
   "source": [
    "# create DFs with mean values\n",
    "mean_dtau_df = pd.DataFrame(dtau_CN.mean(axis=0))\n",
    "mean_dtau_df = mean_dtau_df.rename({0:'CN'}, axis='columns')\n",
    "mean_dtau_df['MCI'] = pd.DataFrame(dtau_MCI.mean(axis=0))\n",
    "mean_dtau_df['AD'] = pd.DataFrame(dtau_AD.mean(axis=0))\n",
    "\n",
    "mean_tau_df = pd.DataFrame(CN_longitudinal['tau']['visit_1'].mean(axis=0))\n",
    "mean_tau_df = mean_dtau_df.rename({0:'CN'}, axis='columns')\n",
    "mean_tau_df['MCI'] = pd.DataFrame(pd.DataFrame(MCI_longitudinal['tau']['visit_1'].mean(axis=0)))\n",
    "mean_tau_df['AD'] = pd.DataFrame(pd.DataFrame(AD_longitudinal['tau']['visit_1'].mean(axis=0)))\n",
    "\n",
    "mean_atrophy_df = pd.DataFrame(CN_longitudinal['atrophy']['visit_1'].mean(axis=0))\n",
    "mean_atrophy_df = mean_atrophy_df.rename({0:'CN'}, axis='columns')\n",
    "mean_atrophy_df['MCI'] = pd.DataFrame(pd.DataFrame(MCI_longitudinal['atrophy']['visit_1'].mean(axis=0)))\n",
    "mean_atrophy_df['AD'] = pd.DataFrame(pd.DataFrame(AD_longitudinal['atrophy']['visit_1'].mean(axis=0)))\n",
    "\n",
    "# create normalized dfs with regions as in brain-paint ordering\n",
    "brain_painter_dtau = atlas_utils.return_brain_paint_df(df=mean_dtau_df.clip(0).T, DK_convention='Other Name', MAX=4)\n",
    "brain_painter_tau = atlas_utils.return_brain_paint_df(df=mean_tau_df.clip(0.8).T, DK_convention='Other Name', MAX=4)\n",
    "brain_painter_atrophy = atlas_utils.return_brain_paint_df(df=mean_atrophy_df.T, DK_convention='Other Name', MAX=4)\n",
    "\n",
    "# save csv files\n",
    "brain_painter_dtau.to_csv(\"../data/brain_painter_data/mean_brain_painter_dtau.csv\")\n",
    "brain_painter_tau.to_csv(\"../data/brain_painter_data/mean_brain_painter_tau.csv\")\n",
    "brain_painter_atrophy.to_csv(\"../data/brain_painter_data/mean_brain_painter_atrophy.csv\")"
   ]
  },
  {
   "cell_type": "code",
   "execution_count": null,
   "metadata": {
    "jupyter": {
     "source_hidden": true
    }
   },
   "outputs": [],
   "source": [
    "plt.figure(figsize=(20,15))\n",
    "plt.subplot(331)\n",
    "plt.title('average dtau')\n",
    "plt.hist(mean_dtau_df['CN'], histtype='step', bins=20)\n",
    "plt.hist(mean_dtau_df['MCI'], histtype='step', bins=20)\n",
    "plt.hist(mean_dtau_df['AD'], histtype='step', bins=20)\n",
    "\n",
    "plt.subplot(332)\n",
    "plt.title('average tau')\n",
    "plt.hist(mean_tau_df['CN'], histtype='step', bins=20)\n",
    "plt.hist(mean_tau_df['MCI'], histtype='step', bins=20)\n",
    "plt.hist(mean_tau_df['AD'], histtype='step', bins=20)\n",
    "\n",
    "plt.subplot(333)\n",
    "plt.title('average thickness')\n",
    "plt.hist(mean_atrophy_df['CN'], histtype='step', bins=20)\n",
    "plt.hist(mean_atrophy_df['MCI'], histtype='step', bins=20)\n",
    "plt.hist(mean_atrophy_df['AD'], histtype='step', bins=20)\n",
    "\n",
    "plt.subplot(334)\n",
    "plt.title('average dtau clipped')\n",
    "plt.hist(mean_dtau_df['CN'].clip(0), histtype='step', bins=20)\n",
    "plt.hist(mean_dtau_df['MCI'].clip(0), histtype='step', bins=20)\n",
    "plt.hist(mean_dtau_df['AD'].clip(0), histtype='step', bins=20)\n",
    "\n",
    "plt.subplot(335)\n",
    "plt.title('average tau clipped')\n",
    "plt.hist(mean_tau_df['CN'].clip(0.8), histtype='step', bins=20)\n",
    "plt.hist(mean_tau_df['MCI'].clip(0.8), histtype='step', bins=20)\n",
    "plt.hist(mean_tau_df['AD'].clip(0.8), histtype='step', bins=20)\n",
    "\n",
    "plt.subplot(336)\n",
    "plt.title('average thickness clipped')\n",
    "plt.hist(mean_atrophy_df['CN'], histtype='step', bins=20)\n",
    "plt.hist(mean_atrophy_df['MCI'], histtype='step', bins=20)\n",
    "plt.hist(mean_atrophy_df['AD'], histtype='step', bins=20)\n",
    "\n",
    "plt.subplot(337)\n",
    "plt.title('average dtau normalized')\n",
    "plt.hist(brain_painter_dtau.loc['CN'], histtype='step', bins=10)\n",
    "plt.hist(brain_painter_dtau.loc['MCI'], histtype='step', bins=10)\n",
    "plt.hist(brain_painter_dtau.loc['AD'], histtype='step', bins=10)\n",
    "\n",
    "plt.subplot(338)\n",
    "plt.title('average tau normalized')\n",
    "plt.hist(brain_painter_tau.loc['CN'], histtype='step', bins=10)\n",
    "plt.hist(brain_painter_tau.loc['MCI'], histtype='step', bins=10)\n",
    "plt.hist(brain_painter_tau.loc['AD'], histtype='step', bins=10)\n",
    "\n",
    "plt.subplot(339)\n",
    "plt.title('average thickness normalized')\n",
    "plt.hist(brain_painter_atrophy.loc['CN'], histtype='step', bins=10)\n",
    "plt.hist(brain_painter_atrophy.loc['MCI'], histtype='step', bins=10)\n",
    "plt.hist(brain_painter_atrophy.loc['AD'], histtype='step', bins=10)\n",
    "plt.show()"
   ]
  },
  {
   "cell_type": "markdown",
   "metadata": {},
   "source": [
    "### Compare regions of highest delta_tau change with NDM regions"
   ]
  },
  {
   "cell_type": "code",
   "execution_count": null,
   "metadata": {},
   "outputs": [],
   "source": [
    "brain_painter_dtau.loc['AD'].sort_values()[-12:]"
   ]
  },
  {
   "cell_type": "code",
   "execution_count": null,
   "metadata": {},
   "outputs": [],
   "source": [
    "NDM_predicted_regions"
   ]
  },
  {
   "cell_type": "code",
   "execution_count": null,
   "metadata": {},
   "outputs": [],
   "source": [
    "plt.hist(mean_dtau_df.clip(0)['CN'], histtype='step', bins=10)\n",
    "plt.hist(mean_dtau_df.clip(0)['MCI'], histtype='step', bins=10)\n",
    "plt.hist(mean_dtau_df.clip(0)['AD'], histtype='step', bins=10)\n",
    "plt.show()"
   ]
  },
  {
   "cell_type": "markdown",
   "metadata": {},
   "source": [
    "## 5. NDM-predicted regions"
   ]
  },
  {
   "cell_type": "code",
   "execution_count": null,
   "metadata": {},
   "outputs": [],
   "source": [
    "# Use Laplacian with high diagonal elements\n",
    "L = atlas_utils.load_laplacian(n=0)"
   ]
  },
  {
   "cell_type": "code",
   "execution_count": null,
   "metadata": {},
   "outputs": [],
   "source": [
    "braak_regions = {str(stage):  list(DK[DK['Braak stage'] == stage].index) for stage in [1.0, 2.0, 3.0, 4.0, 5.0, 6.0]}\n",
    "braak_regions_123 = braak_regions['1.0'] + braak_regions['2.0'] + braak_regions['3.0']\n",
    "braak_regions_1234 = braak_regions['1.0'] + braak_regions['2.0'] + braak_regions['3.0'] + braak_regions['4.0']\n",
    "braak_regions_12345 = braak_regions['1.0'] + braak_regions['2.0'] + braak_regions['3.0'] + braak_regions['4.0'] + braak_regions['5.0']"
   ]
  },
  {
   "cell_type": "code",
   "execution_count": null,
   "metadata": {},
   "outputs": [],
   "source": [
    "# Create a seed vector with 1s in the braak regions 1-4\n",
    "\n",
    "seed_vector = pd.DataFrame(columns=L.columns)\n",
    "seed_vector.loc['seed vector'] = 0.\n",
    "\n",
    "# for region in braak_regions_1234:\n",
    "#     seed_vector[region] = 1.0\n",
    "\n",
    "for region in braak_regions['1.0']:\n",
    "    seed_vector[region] = 1.0\n",
    "\n",
    "for region in braak_regions['2.0']:\n",
    "    seed_vector[region] = 1.0\n",
    "\n",
    "for region in braak_regions['3.0']:\n",
    "    seed_vector[region] = 1.0\n",
    "\n",
    "for region in braak_regions['4.0']:\n",
    "    seed_vector[region] = 1.0"
   ]
  },
  {
   "cell_type": "code",
   "execution_count": null,
   "metadata": {},
   "outputs": [],
   "source": [
    "LxTau = np.matmul(-np.array(L), np.array(seed_vector.T)).ravel()\n",
    "LxTau = pd.DataFrame(LxTau, index=L.columns).T\n",
    "\n",
    "LxTau_cortical = LxTau[list(DK[DK['Cortex']=='cortical'].index)]\n",
    "sorted_LxTau_cortical = LxTau_cortical.sort_values(by=0, axis=1)"
   ]
  },
  {
   "cell_type": "code",
   "execution_count": null,
   "metadata": {},
   "outputs": [],
   "source": [
    "sorted_LxTau_cortical"
   ]
  },
  {
   "cell_type": "code",
   "execution_count": null,
   "metadata": {},
   "outputs": [],
   "source": [
    "DK.loc['ctx-lh-precentral']"
   ]
  },
  {
   "cell_type": "code",
   "execution_count": null,
   "metadata": {},
   "outputs": [],
   "source": [
    "LxTau = np.matmul(-np.array(L), np.array(seed_vector.T)).ravel()\n",
    "LxTau = pd.DataFrame(LxTau, index=L.columns).T\n",
    "\n",
    "LxTau_cortical = LxTau[list(DK[DK['Cortex']=='cortical'].index)]\n",
    "sorted_LxTau_cortical = LxTau_cortical.sort_values(by=0, axis=1)\n",
    "resorted_LxTau_cortical = LxTau_cortical.sort_values(by=0, axis=1, ascending=False)"
   ]
  },
  {
   "cell_type": "code",
   "execution_count": null,
   "metadata": {},
   "outputs": [],
   "source": [
    "braak_4_NDM = atlas_utils.return_brain_paint_df(df=LxTau_cortical, DK_convention='ctx', MAX=4)"
   ]
  },
  {
   "cell_type": "code",
   "execution_count": null,
   "metadata": {},
   "outputs": [],
   "source": [
    "top_regions = resorted_LxTau_cortical.columns[:8]\n",
    "top_regions_brain_painter = list(set(DK.loc[top_regions]['Other Name 5'].values))\n",
    "\n",
    "top_braak_4_NDM = braak_4_NDM.copy()\n",
    "top_braak_4_NDM *= 0.0\n",
    "top_braak_4_NDM[top_regions_brain_painter] = 4.0"
   ]
  },
  {
   "cell_type": "code",
   "execution_count": null,
   "metadata": {},
   "outputs": [],
   "source": [
    "# plt.figure(figsize=(15,5))\n",
    "# plt.subplot(1,3,1)\n",
    "# plt.title('Original Braak 4 features')\n",
    "# plt.hist(braak_4_brain_painter, histtype='step', bins=20)\n",
    "\n",
    "plt.subplot(1,3,2)\n",
    "plt.title('After NDM')\n",
    "plt.hist(LxTau_cortical, histtype='step', bins=20)\n",
    "\n",
    "plt.subplot(1,3,3)\n",
    "plt.title('After NDM & brain painter normalization')\n",
    "plt.hist(braak_4_NDM, histtype='step', bins=20)\n",
    "\n",
    "plt.show()\n",
    "\n",
    "#ps: brain painter adds 0 to subcorticals regions, only takes the left and re-normalizes"
   ]
  },
  {
   "cell_type": "code",
   "execution_count": null,
   "metadata": {},
   "outputs": [],
   "source": [
    "# Create 3 brain-painter-ready dataframes:\n",
    "# 1. Braak 1-4 regions\n",
    "# braak_4_brain_painter.to_csv(\"../data/brain_painter_data/braak_4_brain_painter.csv\")\n",
    "\n",
    "# 2. Braak 4 after NDM\n",
    "braak_4_NDM.to_csv(\"../data/brain_painter_data/braak_4_NDM.csv\")\n",
    "\n",
    "# 3. Top 8 regions\n",
    "top_braak_4_NDM.to_csv(\"../data/brain_painter_data/braak_4_NDM_top_regions.csv\")"
   ]
  },
  {
   "cell_type": "markdown",
   "metadata": {},
   "source": [
    "## Making histograms for Fig 3"
   ]
  },
  {
   "cell_type": "code",
   "execution_count": null,
   "metadata": {},
   "outputs": [],
   "source": [
    "plt.figure(figsize=(20,10))\n",
    "plt.bar(resorted_LxTau_cortical.columns[:40], resorted_LxTau_cortical.values.ravel()[:40])\n",
    "plt.xticks(resorted_LxTau_cortical.columns[:40], resorted_LxTau_cortical.columns[:40], rotation='vertical')\n",
    "plt.yticks([])\n",
    "plt.show()"
   ]
  },
  {
   "cell_type": "code",
   "execution_count": null,
   "metadata": {
    "jupyter": {
     "source_hidden": true
    }
   },
   "outputs": [],
   "source": [
    "names_non_zero = []\n",
    "for col in seed_vector.columns:\n",
    "    if float(seed_vector[col]) > 0.0:\n",
    "        names_non_zero.append(col)\n",
    "    else:\n",
    "        names_non_zero.append(\" \")\n",
    "        \n",
    "plt.figure(figsize=(20,10))\n",
    "plt.bar(seed_vector.columns[:86], seed_vector.values.ravel()[:86])\n",
    "plt.xticks(seed_vector.columns[:86], names_non_zero, rotation='vertical', fontsize=14)\n",
    "plt.yticks([])\n",
    "plt.show()"
   ]
  },
  {
   "cell_type": "code",
   "execution_count": null,
   "metadata": {},
   "outputs": [],
   "source": [
    "plt.figure(figsize=(20,10))\n",
    "plt.bar(resorted_LxTau_cortical.columns[:40], resorted_LxTau_cortical.values.ravel()[:40])\n",
    "plt.xticks(resorted_LxTau_cortical.columns[:40], resorted_LxTau_cortical.columns[:40], rotation='vertical')\n",
    "plt.yticks([])\n",
    "plt.show()"
   ]
  },
  {
   "cell_type": "code",
   "execution_count": null,
   "metadata": {},
   "outputs": [],
   "source": [
    "top_8 = resorted_LxTau_cortical.copy()\n",
    "top_8 *= 0\n",
    "top_8[resorted_LxTau_cortical.columns[:8]] = resorted_LxTau_cortical[resorted_LxTau_cortical.columns[:8]]"
   ]
  },
  {
   "cell_type": "code",
   "execution_count": null,
   "metadata": {},
   "outputs": [],
   "source": [
    "plt.figure(figsize=(20,10))\n",
    "plt.bar(resorted_LxTau_cortical.columns[:40], resorted_LxTau_cortical.values.ravel()[:40])\n",
    "plt.bar(top_8.columns[:40], top_8.values.ravel()[:40], color='purple')\n",
    "plt.xticks(resorted_LxTau_cortical.columns[:40], resorted_LxTau_cortical.columns[:40], rotation='vertical')\n",
    "# plt.yticks([])\n",
    "plt.show()"
   ]
  },
  {
   "cell_type": "code",
   "execution_count": null,
   "metadata": {},
   "outputs": [],
   "source": [
    "NDM_predicted_regions"
   ]
  },
  {
   "cell_type": "code",
   "execution_count": null,
   "metadata": {},
   "outputs": [],
   "source": [
    "resorted_LxTau_cortical.columns[:12]"
   ]
  },
  {
   "cell_type": "markdown",
   "metadata": {},
   "source": [
    "## Clinical"
   ]
  },
  {
   "cell_type": "markdown",
   "metadata": {},
   "source": [
    "### AD"
   ]
  },
  {
   "cell_type": "code",
   "execution_count": null,
   "metadata": {},
   "outputs": [],
   "source": [
    "#AD subjects w/ 3 time points\n",
    "AD_subjs = diagnosis[diagnosis['Clinical Diagnosis']=='AD']\n",
    "AD_subjs = AD_subjs.loc[AD_longitudinal['tau']['visit_3'].index]"
   ]
  },
  {
   "cell_type": "code",
   "execution_count": null,
   "metadata": {},
   "outputs": [],
   "source": [
    "AD_age_mean = AD_subjs['Age'].mean()\n",
    "AD_age_std  = AD_subjs['Age'].std()\n",
    "AD_age_min  = AD_subjs['Age'].min()\n",
    "AD_age_max  = AD_subjs['Age'].max()\n",
    "\n",
    "print('AD_age_mean :', AD_age_mean )\n",
    "print('AD_age_std  :', AD_age_std  )\n",
    "print('AD_age_min  :', AD_age_min  )\n",
    "print('AD_age_max  :', AD_age_max  )"
   ]
  },
  {
   "cell_type": "code",
   "execution_count": null,
   "metadata": {},
   "outputs": [],
   "source": [
    "AD_num_female = len(AD_subjs[AD_subjs['Sex']=='Female'])\n",
    "\n",
    "print('AD_num_female: ', AD_num_female)\n",
    "print('AD_num_female %: ', AD_num_female / len(AD_subjs))"
   ]
  },
  {
   "cell_type": "code",
   "execution_count": null,
   "metadata": {},
   "outputs": [],
   "source": [
    "AD_APOE4 = AD_subjs[AD_subjs['APOE4 ']=='E4/E4']\n",
    "AD_num_APOE4 = len(AD_APOE4)\n",
    "\n",
    "print('AD_num_APOE4: ', AD_num_APOE4)\n",
    "print('AD_num_APOE4 %: ', AD_num_APOE4 / len(AD_subjs))"
   ]
  },
  {
   "cell_type": "code",
   "execution_count": null,
   "metadata": {},
   "outputs": [],
   "source": [
    "AD_FBP_pos = AD_subjs[AD_subjs['FBP Visual Read']=='Positive']\n",
    "AD_FBP_neg = AD_subjs[AD_subjs['FBP Visual Read']=='Negative']\n",
    "\n",
    "print('AD_FBP_pos: ', len(AD_FBP_pos))\n",
    "print('AD_FBP_neg: ', len(AD_FBP_neg))\n",
    "print('AD_FBP_both: ', len(AD_FBP_neg) + len(AD_FBP_pos))\n"
   ]
  },
  {
   "cell_type": "markdown",
   "metadata": {},
   "source": [
    "### MCI"
   ]
  },
  {
   "cell_type": "code",
   "execution_count": null,
   "metadata": {},
   "outputs": [],
   "source": [
    "#MCI subjects w/ 3 time points\n",
    "MCI_subjs = diagnosis[diagnosis['Clinical Diagnosis']=='MCI']\n",
    "MCI_subjs = MCI_subjs.loc[MCI_longitudinal['tau']['visit_3'].index]"
   ]
  },
  {
   "cell_type": "code",
   "execution_count": null,
   "metadata": {},
   "outputs": [],
   "source": [
    "MCI_age_mean = MCI_subjs['Age'].mean()\n",
    "MCI_age_std  = MCI_subjs['Age'].std()\n",
    "MCI_age_min  = MCI_subjs['Age'].min()\n",
    "MCI_age_max  = MCI_subjs['Age'].max()\n",
    "\n",
    "print('MCI_age_mean :', MCI_age_mean )\n",
    "print('MCI_age_std  :', MCI_age_std  )\n",
    "print('MCI_age_min  :', MCI_age_min  )\n",
    "print('MCI_age_max  :', MCI_age_max  )"
   ]
  },
  {
   "cell_type": "code",
   "execution_count": null,
   "metadata": {},
   "outputs": [],
   "source": [
    "MCI_num_female = len(MCI_subjs[MCI_subjs['Sex']=='Female'])\n",
    "\n",
    "print('MCI_num_female: ', MCI_num_female)\n",
    "print('MCI_num_female %: ', MCI_num_female / len(MCI_subjs))"
   ]
  },
  {
   "cell_type": "code",
   "execution_count": null,
   "metadata": {},
   "outputs": [],
   "source": [
    "MCI_APOE4 = MCI_subjs[MCI_subjs['APOE4 ']=='E4/E4']\n",
    "MCI_num_APOE4 = len(MCI_APOE4)\n",
    "\n",
    "print('MCI_num_APOE4: ', MCI_num_APOE4)\n",
    "print('MCI_num_APOE4 %: ', MCI_num_APOE4 / len(MCI_subjs))"
   ]
  },
  {
   "cell_type": "code",
   "execution_count": null,
   "metadata": {},
   "outputs": [],
   "source": [
    "MCI_FBP_pos = MCI_subjs[MCI_subjs['FBP Visual Read']=='Positive']\n",
    "MCI_FBP_neg = MCI_subjs[MCI_subjs['FBP Visual Read']=='Negative']\n",
    "\n",
    "print('MCI_FBP_pos: ', len(MCI_FBP_pos))\n",
    "print('MCI_FBP_neg: ', len(MCI_FBP_neg))\n",
    "print('MCI_FBP_both: ', len(MCI_FBP_neg) + len(MCI_FBP_pos))\n"
   ]
  },
  {
   "cell_type": "code",
   "execution_count": null,
   "metadata": {},
   "outputs": [],
   "source": []
  }
 ],
 "metadata": {
  "kernelspec": {
   "display_name": "Python 3 (ipykernel)",
   "language": "python",
   "name": "python3"
  },
  "language_info": {
   "codemirror_mode": {
    "name": "ipython",
    "version": 3
   },
   "file_extension": ".py",
   "mimetype": "text/x-python",
   "name": "python",
   "nbconvert_exporter": "python",
   "pygments_lexer": "ipython3",
   "version": "3.10.0"
  },
  "toc": {
   "base_numbering": 1,
   "nav_menu": {},
   "number_sections": true,
   "sideBar": true,
   "skip_h1_title": false,
   "title_cell": "Table of Contents",
   "title_sidebar": "Contents",
   "toc_cell": false,
   "toc_position": {},
   "toc_section_display": true,
   "toc_window_display": false
  },
  "varInspector": {
   "cols": {
    "lenName": 16,
    "lenType": 16,
    "lenVar": 40
   },
   "kernels_config": {
    "python": {
     "delete_cmd_postfix": "",
     "delete_cmd_prefix": "del ",
     "library": "var_list.py",
     "varRefreshCmd": "print(var_dic_list())"
    },
    "r": {
     "delete_cmd_postfix": ") ",
     "delete_cmd_prefix": "rm(",
     "library": "var_list.r",
     "varRefreshCmd": "cat(var_dic_list()) "
    }
   },
   "types_to_exclude": [
    "module",
    "function",
    "builtin_function_or_method",
    "instance",
    "_Feature"
   ],
   "window_display": false
  }
 },
 "nbformat": 4,
 "nbformat_minor": 4
}
